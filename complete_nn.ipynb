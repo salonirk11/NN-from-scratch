{
 "cells": [
  {
   "cell_type": "markdown",
   "metadata": {},
   "source": [
    "# Neural Network from Scratch\n",
    "\n",
    "### Key Points:\n",
    "\n",
    "Stage 2:\n",
    "* 3-layer neural network\n",
    "* Feedforward with backpropogation\n",
    "* Framework: Numpy\n",
    "* Training data: Wine Classification based on 13 features\n",
    "* Loss function: Square Root Error\n",
    "* Activation Function: Tanh\n",
    "* Nodes in input layer = 13\n",
    "* Nodes in first layer (Hidden layer) = 8\n",
    "* Nodes in second layer (Hidden layer) = 5\n",
    "* Nodes in third layer (output layer) = 3"
   ]
  },
  {
   "cell_type": "code",
   "execution_count": 1,
   "metadata": {},
   "outputs": [],
   "source": [
    "import numpy as np\n",
    "import pandas as pd"
   ]
  },
  {
   "cell_type": "code",
   "execution_count": null,
   "metadata": {},
   "outputs": [],
   "source": [
    "# CONSTANTS\n",
    "INPUT_SHAPE  = 13\n",
    "DIM_H1       = 8\n",
    "DIM_H2       = 5\n",
    "OUTPUT_SHAPE = 3"
   ]
  },
  {
   "cell_type": "code",
   "execution_count": null,
   "metadata": {},
   "outputs": [],
   "source": [
    "class NeuralNetwork:\n",
    "    def __init__(self, x, y):\n",
    "        self.input      = x\n",
    "        self.weights1   = np.random.rand(INPUT_SHAPE,DIM_H1) \n",
    "        self.bias1      = np.zeros((1, DIM_H1))\n",
    "        self.weights2   = np.random.rand(DIM_H1,DIM_H2) \n",
    "        self.bias2      = np.zeros((1, DIM_H1))\n",
    "        self.weights3   = np.random.rand(5,1)   \n",
    "        self.y          = y\n",
    "        self.output     = np.zeros(self.y.shape)\n",
    "        \n",
    "    def feedforward(self):\n",
    "        self.layer1 = tanh(np.dot(self.input, self.weights1))\n",
    "        self.layer2 = tanh(np.dot(self.layer1, self.weights2))\n",
    "        self.output = softmax(np.dot(self.layer2, self.weights3))\n",
    "        \n",
    "    def backprop(self):\n",
    "        # application of the chain rule to find derivative of the loss function with respect to weights2 and weights1\n",
    "        d_weights2 = np.dot(self.layer1.T, (2*(self.y - self.output) * sigmoid_derivative(self.output)))\n",
    "        d_weights1 = np.dot(self.input.T,  (np.dot(2*(self.y - self.output) * sigmoid_derivative(self.output), self.weights2.T) * sigmoid_derivative(self.layer1)))\n",
    "\n",
    "        # update the weights with the derivative (slope) of the loss function\n",
    "        self.weights1 += d_weights1\n",
    "        self.weights2 += d_weights2"
   ]
  }
 ],
 "metadata": {
  "kernelspec": {
   "display_name": "Python 3",
   "language": "python",
   "name": "python3"
  },
  "language_info": {
   "codemirror_mode": {
    "name": "ipython",
    "version": 3
   },
   "file_extension": ".py",
   "mimetype": "text/x-python",
   "name": "python",
   "nbconvert_exporter": "python",
   "pygments_lexer": "ipython3",
   "version": "3.7.0"
  }
 },
 "nbformat": 4,
 "nbformat_minor": 2
}
